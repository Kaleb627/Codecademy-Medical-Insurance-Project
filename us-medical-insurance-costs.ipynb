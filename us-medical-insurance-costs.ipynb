{
 "cells": [
  {
   "cell_type": "markdown",
   "metadata": {},
   "source": [
    "# U.S. Medical Insurance Costs"
   ]
  },
  {
   "cell_type": "markdown",
   "metadata": {},
   "source": [
    "## Importing libraries"
   ]
  },
  {
   "cell_type": "code",
   "execution_count": 144,
   "metadata": {},
   "outputs": [],
   "source": [
    "import csv\n",
    "import pandas as pd\n",
    "import numpy as np\n",
    "from matplotlib import pyplot as plt\n",
    "from statistics import mean\n",
    "import matplotlib as plt"
   ]
  },
  {
   "cell_type": "markdown",
   "metadata": {},
   "source": [
    "## Organizing Data"
   ]
  },
  {
   "cell_type": "code",
   "execution_count": 135,
   "metadata": {},
   "outputs": [
    {
     "name": "stdout",
     "output_type": "stream",
     "text": [
      "{'age': '19', 'sex': 'female', 'bmi': '27.9', 'children': '0', 'smoker': 'yes', 'region': 'southwest', 'charges': '16884.924'}\n",
      "['age' 'sex' 'bmi' 'children' 'smoker' 'region' 'charges']\n"
     ]
    }
   ],
   "source": [
    "#reading in the patient data and creating a dictionary with numbered key\n",
    "with open('insurance.csv') as data_csv:\n",
    "    csv_data = csv.DictReader(data_csv)\n",
    "    ordered_list = list(csv_data)\n",
    "    data_keys = list(range(len(ordered_list)))\n",
    "    patient_data_dict = {key: None for key in data_keys}\n",
    "    for key, value in patient_data_dict.items():\n",
    "        patient_data_dict[key] = ordered_list[key]\n",
    "\n",
    "patient_data = pd.read_csv(r'C:\\Users\\kaleb\\Desktop\\JupyterStuff\\python-portfolio-project-starter-files\\insurance.csv')\n",
    "        \n",
    "#for data structure reference        \n",
    "print(patient_data_dict[0])\n",
    "print(patient_data.columns.values)"
   ]
  },
  {
   "cell_type": "markdown",
   "metadata": {},
   "source": [
    "## Basic Statistics"
   ]
  },
  {
   "cell_type": "code",
   "execution_count": 136,
   "metadata": {
    "scrolled": true
   },
   "outputs": [
    {
     "name": "stdout",
     "output_type": "stream",
     "text": [
      "The average BMI is 30.66\n",
      "The average age is 39\n",
      "The median insurance cost is $9382.03\n",
      "The average insurance cost is $13270.42\n"
     ]
    }
   ],
   "source": [
    "#A block of common statistics using pandas library\n",
    "average_bmi = patient_data['bmi'].mean()\n",
    "average_age = patient_data['age'].mean()\n",
    "median_cost = patient_data['charges'].median()\n",
    "average_cost = patient_data['charges'].mean()\n",
    "print('The average BMI is ' + str(round(average_bmi,2)))\n",
    "print('The average age is ' + str(round(average_age)))\n",
    "print('The median insurance cost is $' + str(round(median_cost,2)))\n",
    "print('The average insurance cost is $' + str(round(average_cost,2)))"
   ]
  },
  {
   "cell_type": "markdown",
   "metadata": {},
   "source": [
    "## Average cost difference between smokers and non smokers"
   ]
  },
  {
   "cell_type": "code",
   "execution_count": 126,
   "metadata": {},
   "outputs": [
    {
     "name": "stdout",
     "output_type": "stream",
     "text": [
      "The average difference in cost for smokers vs non-smokers is $23884.76\n"
     ]
    }
   ],
   "source": [
    "#finding average difference in cost for smokers vs non_smokers\n",
    "def smoking_cost(data_dict):\n",
    "    smoker_cost = []\n",
    "    non_smoker_cost = []\n",
    "    for key, value in patient_data_dict.items():\n",
    "        if value['smoker'] == 'yes':\n",
    "            smoker_cost.append(float(value['charges']))\n",
    "        else:\n",
    "            non_smoker_cost.append(float(value['charges']))\n",
    "    return mean(abs(x - y) for x, y in zip(smoker_cost, non_smoker_cost))\n",
    "print(\"The average difference in cost for smokers vs non-smokers is $\" + str(round(smoking_cost(patient_data_dict), 2)))            "
   ]
  },
  {
   "cell_type": "markdown",
   "metadata": {},
   "source": [
    "## Average age of those with children vs no children"
   ]
  },
  {
   "cell_type": "code",
   "execution_count": 143,
   "metadata": {},
   "outputs": [
    {
     "name": "stdout",
     "output_type": "stream",
     "text": [
      "The average age of a parent in the data is 40 while the average age of non parents is 38\n"
     ]
    }
   ],
   "source": [
    "#average age of those with children vs no children\n",
    "def average_age(data_dict):\n",
    "    childless_age = []\n",
    "    parent_age = []\n",
    "    for key, value in patient_data_dict.items():\n",
    "        if value['children'] == '0':\n",
    "            childless_age.append(int(value['age']))\n",
    "        else:\n",
    "            parent_age.append(int(value['age']))\n",
    "    return print(\"The average age of a parent in the data is \" + str(round(mean(parent_age))) \n",
    "                 + \" while the average age of non parents is \" + str(round(mean(childless_age))))\n",
    "\n",
    "average_age(patient_data_dict)    "
   ]
  },
  {
   "cell_type": "code",
   "execution_count": null,
   "metadata": {},
   "outputs": [],
   "source": []
  }
 ],
 "metadata": {
  "kernelspec": {
   "display_name": "Python 3 (ipykernel)",
   "language": "python",
   "name": "python3"
  },
  "language_info": {
   "codemirror_mode": {
    "name": "ipython",
    "version": 3
   },
   "file_extension": ".py",
   "mimetype": "text/x-python",
   "name": "python",
   "nbconvert_exporter": "python",
   "pygments_lexer": "ipython3",
   "version": "3.9.4"
  }
 },
 "nbformat": 4,
 "nbformat_minor": 4
}
