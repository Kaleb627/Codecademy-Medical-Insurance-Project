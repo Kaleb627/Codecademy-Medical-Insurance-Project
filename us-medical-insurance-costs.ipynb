{
 "cells": [
  {
   "cell_type": "markdown",
   "metadata": {},
   "source": [
    "# U.S. Medical Insurance Costs"
   ]
  },
  {
   "cell_type": "markdown",
   "metadata": {},
   "source": [
    "## Importing libraries"
   ]
  },
  {
   "cell_type": "code",
   "execution_count": 96,
   "metadata": {},
   "outputs": [],
   "source": [
    "import csv\n",
    "import pandas as pd\n",
    "import numpy as np\n",
    "from matplotlib import pyplot as plt\n",
    "from statistics import mean"
   ]
  },
  {
   "cell_type": "markdown",
   "metadata": {},
   "source": [
    "## Organizing Data"
   ]
  },
  {
   "cell_type": "code",
   "execution_count": 97,
   "metadata": {},
   "outputs": [
    {
     "name": "stdout",
     "output_type": "stream",
     "text": [
      "{'age': '19', 'sex': 'female', 'bmi': '27.9', 'children': '0', 'smoker': 'yes', 'region': 'southwest', 'charges': '16884.924'}\n",
      "['age' 'sex' 'bmi' 'children' 'smoker' 'region' 'charges']\n"
     ]
    }
   ],
   "source": [
    "#reading in the patient data and creating a dictionary with numbered key\n",
    "with open('insurance.csv') as data_csv:\n",
    "    csv_data = csv.DictReader(data_csv)\n",
    "    ordered_list = list(csv_data)\n",
    "    data_keys = list(range(len(ordered_list)))\n",
    "    patient_data_dict = {key: None for key in data_keys}\n",
    "    for key, value in patient_data_dict.items():\n",
    "        patient_data_dict[key] = ordered_list[key]\n",
    "\n",
    "patient_data = pd.read_csv(r'insurance.csv')\n",
    "        \n",
    "#for data structure reference\n",
    "print(patient_data_dict[0])\n",
    "print(patient_data.columns.values)"
   ]
  },
  {
   "cell_type": "markdown",
   "metadata": {},
   "source": [
    "## Basic Statistics"
   ]
  },
  {
   "cell_type": "code",
   "execution_count": 98,
   "metadata": {
    "scrolled": true
   },
   "outputs": [],
   "source": [
    "#A block of common statistics using pandas library\n",
    "average_bmi = patient_data['bmi'].mean()\n",
    "average_age = patient_data['age'].mean()\n",
    "median_cost = patient_data['charges'].median()\n",
    "average_cost = patient_data['charges'].mean()"
   ]
  },
  {
   "cell_type": "markdown",
   "metadata": {},
   "source": [
    "## Average cost difference between smokers and non smokers"
   ]
  },
  {
   "cell_type": "code",
   "execution_count": 99,
   "metadata": {},
   "outputs": [],
   "source": [
    "#function for finding average difference in cost for smokers vs non_smokers\n",
    "def smoking_cost(data_dict):\n",
    "    smoker_cost = []\n",
    "    non_smoker_cost = []\n",
    "    for key, value in data_dict.items():\n",
    "        if value['smoker'] == 'yes':\n",
    "            smoker_cost.append(float(value['charges']))\n",
    "        else:\n",
    "            non_smoker_cost.append(float(value['charges']))\n",
    "    average = mean(abs(x - y) for x, y in zip(smoker_cost, non_smoker_cost))\n",
    "    return print(\"The average difference in cost for smokers vs non-smokers is $\" \n",
    "                 + str(round(average, 2)) + '.')"
   ]
  },
  {
   "cell_type": "markdown",
   "metadata": {},
   "source": [
    "## Average age of those with children vs no children"
   ]
  },
  {
   "cell_type": "code",
   "execution_count": 100,
   "metadata": {},
   "outputs": [],
   "source": [
    "#function for finding the average age of those with children vs no children\n",
    "def average_age_parents(data_dict):\n",
    "    childless_age = []\n",
    "    parent_age = []\n",
    "    for key, value in data_dict.items():\n",
    "        if value['children'] == '0':\n",
    "            childless_age.append(int(value['age']))\n",
    "        else:\n",
    "            parent_age.append(int(value['age']))\n",
    "    return print(\"The average age of a parent in the data is \" + str(round(mean(parent_age))) \n",
    "                 + \" while the average age of non parents is \" + str(round(mean(childless_age))) + '.')"
   ]
  },
  {
   "cell_type": "markdown",
   "metadata": {},
   "source": [
    "## Number of smokers vs non-smokers in data"
   ]
  },
  {
   "cell_type": "code",
   "execution_count": 103,
   "metadata": {},
   "outputs": [],
   "source": [
    "def num_smokers(data_dict):\n",
    "    smokers = 0\n",
    "    non_smokers = 0\n",
    "    for key, value in data_dict.items():\n",
    "        if value['smoker'] == 'yes':\n",
    "            smokers +=1\n",
    "        else:\n",
    "            non_smokers += 1\n",
    "    return print(f\"There are {smokers} smokers in the dataset, and {non_smokers} non_smokers in the dataset.\")"
   ]
  },
  {
   "cell_type": "markdown",
   "metadata": {},
   "source": [
    "## Most common region"
   ]
  },
  {
   "cell_type": "code",
   "execution_count": 107,
   "metadata": {},
   "outputs": [],
   "source": [
    "#function for finding the most common region using a dictionary of the data\n",
    "def most_common_region(data_dict):\n",
    "    regions = {'southwest':0, 'southeast':0, 'northwest':0, 'northeast':0}\n",
    "    for key, value in data_dict.items():\n",
    "        if value['region'] == 'southwest':\n",
    "            regions['southwest'] += 1\n",
    "        elif value['region'] == 'southeast':\n",
    "            regions['southeast'] += 1\n",
    "        elif value['region'] == 'northwest':\n",
    "            regions['northwest'] += 1\n",
    "        else:\n",
    "            regions['northeast'] += 1\n",
    "    most_common = max(regions, key = regions.get)\n",
    "    return print(\"The region with the most patients in this dataset is the \" + str(most_common) + '.')"
   ]
  },
  {
   "cell_type": "code",
   "execution_count": 108,
   "metadata": {},
   "outputs": [
    {
     "name": "stdout",
     "output_type": "stream",
     "text": [
      "The average BMI is 30.66\n",
      "The average age is 39\n",
      "The median insurance cost is $9382.03\n",
      "The average insurance cost is $13270.42\n",
      "There are 274 smokers in the dataset, and 1064 non_smokers in the dataset.\n",
      "The average difference in cost for smokers vs non-smokers is $23884.76.\n",
      "The average age of a parent in the data is 40 while the average age of non parents is 38.\n",
      "The region with the most patients in this dataset is the southeast.\n"
     ]
    },
    {
     "data": {
      "text/plain": [
       "(None,\n",
       " {'southwest': 325, 'southeast': 364, 'northwest': 325, 'northeast': 324})"
      ]
     },
     "execution_count": 108,
     "metadata": {},
     "output_type": "execute_result"
    }
   ],
   "source": [
    "print('The average BMI is ' + str(round(average_bmi,2)))\n",
    "print('The average age is ' + str(round(average_age)))\n",
    "print('The median insurance cost is $' + str(round(median_cost,2)))\n",
    "print('The average insurance cost is $' + str(round(average_cost,2)))\n",
    "\n",
    "num_smokers(patient_data_dict)\n",
    "smoking_cost(patient_data_dict)\n",
    "average_age_parents(patient_data_dict)  \n",
    "most_common_region(patient_data_dict)"
   ]
  },
  {
   "cell_type": "markdown",
   "metadata": {},
   "source": [
    "## Graphing"
   ]
  },
  {
   "cell_type": "code",
   "execution_count": 94,
   "metadata": {
    "scrolled": false
   },
   "outputs": [
    {
     "data": {
      "image/png": "[encoded data removed]",
      "text/plain": [
       "<Figure size 432x288 with 1 Axes>"
      ]
     },
     "metadata": {
      "needs_background": "light"
     },
     "output_type": "display_data"
    }
   ],
   "source": [
    "#age vs cost plot function\n",
    "def data_distribution(data_dict, x):\n",
    "    x_axis = []\n",
    "    for key, value in patient_data_dict.items():\n",
    "        x_axis.append(value[x])\n",
    "    plt.hist(x_axis)\n",
    "    plt.show()\n",
    "    \n",
    "data_distribution(patient_data_dict, 'region')"
   ]
  },
  {
   "cell_type": "code",
   "execution_count": null,
   "metadata": {},
   "outputs": [],
   "source": [
    "#With the data generated thus far a fer conclusions can be drawn. For one, the data seems to have a fair representation\n",
    "#of regions. However there are 1064 smokers and only 274 non-smokers in the data which could skew the average costs given the\n",
    "#massive average difference in cost for a smoker and non-smoker being $23,884.76."
   ]
  }
 ],
 "metadata": {
  "kernelspec": {
   "display_name": "Python 3 (ipykernel)",
   "language": "python",
   "name": "python3"
  },
  "language_info": {
   "codemirror_mode": {
    "name": "ipython",
    "version": 3
   },
   "file_extension": ".py",
   "mimetype": "text/x-python",
   "name": "python",
   "nbconvert_exporter": "python",
   "pygments_lexer": "ipython3",
   "version": "3.9.4"
  }
 },
 "nbformat": 4,
 "nbformat_minor": 4
}
